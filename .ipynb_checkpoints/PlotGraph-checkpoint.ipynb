{
 "cells": [
  {
   "cell_type": "code",
   "execution_count": null,
   "id": "34968947-b4ed-40ec-8558-0eb3335fb05c",
   "metadata": {},
   "outputs": [],
   "source": [
    "import matplotlib.pyplot as plt\n",
    "from sklearn.metrics import ConfusionMatrixDisplay, classification_report"
   ]
  },
  {
   "cell_type": "code",
   "execution_count": null,
   "id": "1200ce66-9429-457f-819a-1038e27fb83a",
   "metadata": {},
   "outputs": [],
   "source": [
    "def plot_cm():\n",
    "    cm = confusion_matrix(self.y_test,y_pred)\n",
    "    disp = ConfusionMatrixDisplay(confusion_matrix=cm)\n",
    "    disp.plot()\n",
    "    plt.show()"
   ]
  },
  {
   "cell_type": "code",
   "execution_count": null,
   "id": "de8e0c23-ac93-46b0-81a2-63734be83353",
   "metadata": {},
   "outputs": [],
   "source": [
    "plot_cm():"
   ]
  },
  {
   "cell_type": "code",
   "execution_count": null,
   "id": "eee687f7-9e48-4877-b4ea-95f721ef91c7",
   "metadata": {},
   "outputs": [],
   "source": [
    "from ModelPrediction import init_split_data, prediction\n",
    "\n",
    "\n",
    "data = init_split_data()\n",
    "prediction(data)"
   ]
  },
  {
   "cell_type": "code",
   "execution_count": null,
   "id": "b6b033fa-618a-47ea-8f43-22bed35ddd43",
   "metadata": {},
   "outputs": [],
   "source": []
  }
 ],
 "metadata": {
  "kernelspec": {
   "display_name": "Python 3 (ipykernel)",
   "language": "python",
   "name": "python3"
  },
  "language_info": {
   "codemirror_mode": {
    "name": "ipython",
    "version": 3
   },
   "file_extension": ".py",
   "mimetype": "text/x-python",
   "name": "python",
   "nbconvert_exporter": "python",
   "pygments_lexer": "ipython3",
   "version": "3.11.6"
  }
 },
 "nbformat": 4,
 "nbformat_minor": 5
}
